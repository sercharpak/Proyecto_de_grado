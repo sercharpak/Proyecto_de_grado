{
 "cells": [
  {
   "cell_type": "code",
   "execution_count": 1,
   "metadata": {
    "collapsed": false
   },
   "outputs": [
    {
     "name": "stdout",
     "output_type": "stream",
     "text": [
      "Populating the interactive namespace from numpy and matplotlib\n"
     ]
    }
   ],
   "source": [
    "%pylab inline\n",
    "import numpy as np\n",
    "import matplotlib.pyplot as plt\n",
    "import dicom as dc\n",
    "import glob as gl\n",
    "import os as os"
   ]
  },
  {
   "cell_type": "code",
   "execution_count": 2,
   "metadata": {
    "collapsed": true
   },
   "outputs": [],
   "source": [
    "#Method to insert the image in the center of an all black image of double dimensions\n",
    "def doubingSize(input_file,output_file):\n",
    "    data = dc.read_file(input_file)\n",
    "    array = data.pixel_array\n",
    "    n_columns = data.Columns\n",
    "    n_rows = data.Rows\n",
    "    #New size\n",
    "    new_n_columns = 2 * n_columns\n",
    "    new_n_rows = 2 * n_rows\n",
    "    #New array - all black\n",
    "    new_array = np.zeros((new_n_rows, new_n_columns))\n",
    "    #Inserting the image in the center\n",
    "    for i in range(n_rows):\n",
    "        for j in range(n_columns):\n",
    "            new_array[(n_rows/2)+ i,(n_columns/2)+j] = array[i,j]\n",
    "    #Changing to the correct dtype\n",
    "    new_array = new_array.astype(uint16)\n",
    "    #Preparing to save\n",
    "    data.Columns = new_n_columns\n",
    "    data.Rows = new_n_rows\n",
    "    data.pixel_array = new_array\n",
    "    data.PixelData = new_array.tostring()\n",
    "    data.save_as(output_file)"
   ]
  },
  {
   "cell_type": "code",
   "execution_count": 3,
   "metadata": {
    "collapsed": true
   },
   "outputs": [],
   "source": [
    "#Defining the input and output folder\n",
    "folder_input = \"../imagenes/Case_2/\"\n",
    "folder_output = \"../imagenes/Case_2_crop/\""
   ]
  },
  {
   "cell_type": "code",
   "execution_count": 4,
   "metadata": {
    "collapsed": true
   },
   "outputs": [],
   "source": [
    "#Getting the file set\n",
    "fileset = gl.glob(folder_input+\"*\")"
   ]
  },
  {
   "cell_type": "code",
   "execution_count": 5,
   "metadata": {
    "collapsed": false
   },
   "outputs": [],
   "source": [
    "#Looping in the files\n",
    "for input_file in fileset:\n",
    "    #Getting the name of the file without the path\n",
    "    name = os.path.basename(input_file)\n",
    "    output_file = folder_output + name\n",
    "    doubingSize(input_file,output_file)"
   ]
  },
  {
   "cell_type": "code",
   "execution_count": 6,
   "metadata": {
    "collapsed": true
   },
   "outputs": [],
   "source": [
    "#Visualize an image\n",
    "#plt.imshow(test_data.pixel_array, cmap=plt.cm.bone)\n",
    "#plt.show()"
   ]
  }
 ],
 "metadata": {
  "kernelspec": {
   "display_name": "Python 2",
   "language": "python",
   "name": "python2"
  },
  "language_info": {
   "codemirror_mode": {
    "name": "ipython",
    "version": 2
   },
   "file_extension": ".py",
   "mimetype": "text/x-python",
   "name": "python",
   "nbconvert_exporter": "python",
   "pygments_lexer": "ipython2",
   "version": "2.7.6"
  }
 },
 "nbformat": 4,
 "nbformat_minor": 1
}
